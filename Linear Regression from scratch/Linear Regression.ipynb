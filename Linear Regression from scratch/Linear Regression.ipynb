{
 "cells": [
  {
   "cell_type": "markdown",
   "id": "1022daa7",
   "metadata": {},
   "source": [
    "# Two variable Linear Regression Model:"
   ]
  },
  {
   "cell_type": "markdown",
   "id": "bd56d4c1",
   "metadata": {},
   "source": [
    "## Following Assumptions were taken:\n",
    "\n",
    "1) The regression model is linear in parameters.\n",
    "\n",
    "2) Zero mean value of disturbance.\n",
    "\n",
    "3) Zero covariance between the independent term and disturbance term.\n",
    "\n",
    "4) Homoscedasticity is present i.e. variance of disturbance term is constant.\n",
    "\n",
    "5) No autocorrelation between the disturbance terms."
   ]
  },
  {
   "cell_type": "markdown",
   "id": "d94a66f8",
   "metadata": {},
   "source": [
    "## Setting Hypothesis:\n",
    "\n",
    "Null Hypothesis,\n",
    "                Ho:There is no significant difference between two variables i.e. there is no relation exist between dependent                      and independent variables.\n",
    "\n",
    "Alternative Hypothesis,\n",
    "                H1:There is significant difference between two variables i.e. there is some relation exist between dependent                         and independent variables."
   ]
  },
  {
   "cell_type": "markdown",
   "id": "cd465ffd",
   "metadata": {},
   "source": [
    "## Test Statistic:"
   ]
  },
  {
   "cell_type": "markdown",
   "id": "e39f7f70",
   "metadata": {},
   "source": [
    "###  Importing Libraries:"
   ]
  },
  {
   "cell_type": "code",
   "execution_count": 1,
   "id": "d8059036",
   "metadata": {},
   "outputs": [],
   "source": [
    "import math\n",
    "import matplotlib.pyplot as plt\n",
    "import pandas as pd"
   ]
  },
  {
   "cell_type": "markdown",
   "id": "ae4597f4",
   "metadata": {},
   "source": [
    "###  Assigning  values to the variables:"
   ]
  },
  {
   "cell_type": "code",
   "execution_count": 2,
   "id": "9a0f0aac",
   "metadata": {},
   "outputs": [
    {
     "name": "stdout",
     "output_type": "stream",
     "text": [
      "Y = [39343, 46205, 37731, 43525, 39891, 56642, 60150, 54445, 64445, 57189, 63218, 55794, 56957, 57891, 61111, 67938, 66029, 83088, 81363, 93940, 91738, 98273, 101302, 113812, 109431, 105582, 11696, 112635, 122391, 121872]\n",
      "X = [1.1, 1.3, 1.5, 2.0, 2.2, 2.9, 3.0, 3.2, 3.2, 3.7, 3.9, 4.0, 4.0, 4.1, 4.5, 4.9, 5.1, 5.3, 5.9, 6.0, 6.8, 7.1, 7.9, 8.2, 8.7, 9.0, 9.5, 9.6, 10.3, 10.5]\n"
     ]
    }
   ],
   "source": [
    "with open(\"file.txt\",\"r\") as f:  #To read data from .txt file\n",
    "    data=f.readlines()\n",
    "    l=[]\n",
    "    for i in data:\n",
    "       l.append(i.strip().split(\",\"))\n",
    "    X = [eval(i) for i in l[0][1:]] #Independent Variable\n",
    "    Y = [eval(i) for i in l[1][1:]] #Dependent Variable\n",
    "    print(\"Y =\",Y)  \n",
    "    print(\"X =\",X)"
   ]
  },
  {
   "cell_type": "markdown",
   "id": "94ec463e",
   "metadata": {},
   "source": [
    "### Scatter plot of given data:"
   ]
  },
  {
   "cell_type": "code",
   "execution_count": 3,
   "id": "b20fef38",
   "metadata": {},
   "outputs": [
    {
     "data": {
      "image/png": "[encoded data removed]",
      "text/plain": [
       "<Figure size 640x480 with 1 Axes>"
      ]
     },
     "metadata": {},
     "output_type": "display_data"
    }
   ],
   "source": [
    "plt.scatter(X,Y)\n",
    "plt.grid()\n",
    "plt.show()"
   ]
  },
  {
   "cell_type": "markdown",
   "id": "c61a5eaf",
   "metadata": {},
   "source": [
    "### Calculating mean of X(Independent variable):"
   ]
  },
  {
   "cell_type": "code",
   "execution_count": 4,
   "id": "9b58f619",
   "metadata": {},
   "outputs": [
    {
     "name": "stdout",
     "output_type": "stream",
     "text": [
      "Mean of X(X̄)= 5.3133333333333335\n"
     ]
    }
   ],
   "source": [
    "sum_X=0\n",
    "for i in range(len(X)):\n",
    "    sum_X=sum_X+X[i]\n",
    "mean_X=sum_X/len(X)\n",
    "print(\"Mean of X(X̄)=\",mean_X)"
   ]
  },
  {
   "cell_type": "markdown",
   "id": "91e9345d",
   "metadata": {},
   "source": [
    "### Squaring and Summing over X i.e. ΣX^2:"
   ]
  },
  {
   "cell_type": "code",
   "execution_count": 5,
   "id": "fd7f6e3f",
   "metadata": {},
   "outputs": [
    {
     "name": "stdout",
     "output_type": "stream",
     "text": [
      " ΣX^2 = 1080.5\n"
     ]
    }
   ],
   "source": [
    "sum_X2=0\n",
    "for i in range(len(X)):\n",
    "    sum_X2=sum_X2+(X[i]*X[i])\n",
    "print(\" ΣX^2 =\",sum_X2)    "
   ]
  },
  {
   "cell_type": "markdown",
   "id": "89b48325",
   "metadata": {},
   "source": [
    "###  Calculating mean of Y(Dependent variable):"
   ]
  },
  {
   "cell_type": "code",
   "execution_count": 6,
   "id": "55f1950c",
   "metadata": {},
   "outputs": [
    {
     "name": "stdout",
     "output_type": "stream",
     "text": [
      "Mean of Y(Ȳ) = 72520.9\n"
     ]
    }
   ],
   "source": [
    "sum_Y=0\n",
    "for j in range(len(Y)):\n",
    "    sum_Y=sum_Y+Y[j]\n",
    "mean_Y=sum_Y/len(Y)\n",
    "print(\"Mean of Y(Ȳ) =\",mean_Y)"
   ]
  },
  {
   "cell_type": "markdown",
   "id": "ff46a750",
   "metadata": {},
   "source": [
    "### Squaring and Summing over Y i.e.ΣY^2:"
   ]
  },
  {
   "cell_type": "code",
   "execution_count": 7,
   "id": "75ae88eb",
   "metadata": {},
   "outputs": [
    {
     "name": "stdout",
     "output_type": "stream",
     "text": [
      "ΣY^2 = 181636834897\n"
     ]
    }
   ],
   "source": [
    "sum_Y2=0\n",
    "for j in range(len(Y)):\n",
    "    sum_Y2=sum_Y2+(Y[j]*Y[j])\n",
    "print(\"ΣY^2 =\",sum_Y2)    "
   ]
  },
  {
   "cell_type": "markdown",
   "id": "2c762eb1",
   "metadata": {},
   "source": [
    "### Calculating deviation of X from it's mean i.e. x:"
   ]
  },
  {
   "cell_type": "code",
   "execution_count": 8,
   "id": "75b54d8a",
   "metadata": {},
   "outputs": [
    {
     "name": "stdout",
     "output_type": "stream",
     "text": [
      "(X-X̄) = [-4.213333333333333, -4.013333333333334, -3.8133333333333335, -3.3133333333333335, -3.1133333333333333, -2.4133333333333336, -2.3133333333333335, -2.1133333333333333, -2.1133333333333333, -1.6133333333333333, -1.4133333333333336, -1.3133333333333335, -1.3133333333333335, -1.2133333333333338, -0.8133333333333335, -0.4133333333333331, -0.21333333333333382, -0.013333333333333641, 0.5866666666666669, 0.6866666666666665, 1.4866666666666664, 1.7866666666666662, 2.586666666666667, 2.886666666666666, 3.386666666666666, 3.6866666666666665, 4.1866666666666665, 4.286666666666666, 4.986666666666667, 5.1866666666666665]\n"
     ]
    }
   ],
   "source": [
    "x=[]\n",
    "for i in range(len(X)):\n",
    "    dx=X[i]-mean_X\n",
    "    x.append(dx)\n",
    "print(\"(X-X̄) =\",x)"
   ]
  },
  {
   "cell_type": "markdown",
   "id": "46d7ce1a",
   "metadata": {},
   "source": [
    "###  Square of Deviation of X i.e. x^2:"
   ]
  },
  {
   "cell_type": "code",
   "execution_count": 9,
   "id": "58287651",
   "metadata": {},
   "outputs": [
    {
     "name": "stdout",
     "output_type": "stream",
     "text": [
      "Σ(X-X̄)^2 = 233.55466666666663\n"
     ]
    }
   ],
   "source": [
    "x2=[]\n",
    "sum_x2=0\n",
    "for k in range(len(x)):\n",
    "    dx2=x[k]**2\n",
    "    x2.append(dx2)\n",
    "    sum_x2=sum_x2+dx2\n",
    "print(\"Σ(X-X̄)^2 =\",sum_x2)"
   ]
  },
  {
   "cell_type": "markdown",
   "id": "f373cc12",
   "metadata": {},
   "source": [
    "### Calculating deviation of Y from it's mean i.e. y:"
   ]
  },
  {
   "cell_type": "code",
   "execution_count": 10,
   "id": "ac18e89c",
   "metadata": {},
   "outputs": [
    {
     "name": "stdout",
     "output_type": "stream",
     "text": [
      "(Y-Ȳ) = [-33177.899999999994, -26315.899999999994, -34789.899999999994, -28995.899999999994, -32629.899999999994, -15878.899999999994, -12370.899999999994, -18075.899999999994, -8075.899999999994, -15331.899999999994, -9302.899999999994, -16726.899999999994, -15563.899999999994, -14629.899999999994, -11409.899999999994, -4582.899999999994, -6491.899999999994, 10567.100000000006, 8842.100000000006, 21419.100000000006, 19217.100000000006, 25752.100000000006, 28781.100000000006, 41291.100000000006, 36910.100000000006, 33061.100000000006, -60824.899999999994, 40114.100000000006, 49870.100000000006, 49351.100000000006]\n"
     ]
    }
   ],
   "source": [
    "y=[]\n",
    "for j in range(len(Y)):\n",
    "    dy=Y[j]-mean_Y\n",
    "    y.append(dy)\n",
    "print(\"(Y-Ȳ) =\", y)"
   ]
  },
  {
   "cell_type": "markdown",
   "id": "eda02654",
   "metadata": {},
   "source": [
    "### Square of Deviation of Y i.e. y^2:\n"
   ]
  },
  {
   "cell_type": "code",
   "execution_count": 11,
   "id": "f93a1c53",
   "metadata": {},
   "outputs": [
    {
     "name": "stdout",
     "output_type": "stream",
     "text": [
      "Σ(Y-Ȳ)^2 = 23858406792.7\n"
     ]
    }
   ],
   "source": [
    "y2=[]\n",
    "sum_y2=0\n",
    "for l in range(len(y)):\n",
    "    dy2=y[l]**2\n",
    "    y2.append(dy2)\n",
    "    sum_y2=sum_y2+dy2\n",
    "print(\"Σ(Y-Ȳ)^2 =\",sum_y2)\n"
   ]
  },
  {
   "cell_type": "markdown",
   "id": "7ada6fc0",
   "metadata": {},
   "source": [
    "### Product of deviation of X and Y i.e. xy and it's sum i.e. Σxy:"
   ]
  },
  {
   "cell_type": "code",
   "execution_count": 12,
   "id": "c24730ac",
   "metadata": {},
   "outputs": [
    {
     "name": "stdout",
     "output_type": "stream",
     "text": [
      "Σxy = 1765357.0399999996\n"
     ]
    }
   ],
   "source": [
    "xy=[]\n",
    "sum_xy=0\n",
    "for m in range(len(x)):\n",
    "    dxy=x[m]*y[m]\n",
    "    xy.append(dxy)\n",
    "    sum_xy=sum_xy+dxy\n",
    "print(\"Σxy =\",sum_xy)\n"
   ]
  },
  {
   "cell_type": "markdown",
   "id": "86b64ba8",
   "metadata": {},
   "source": [
    "### Calculating β2_cap:"
   ]
  },
  {
   "cell_type": "code",
   "execution_count": 13,
   "id": "7ec79653",
   "metadata": {},
   "outputs": [
    {
     "name": "stdout",
     "output_type": "stream",
     "text": [
      "Estimated value of β2 = 7558.645970108353\n"
     ]
    }
   ],
   "source": [
    "B2_cap=sum_xy/sum_x2\n",
    "print(\"Estimated value of β2 =\", B2_cap)"
   ]
  },
  {
   "cell_type": "markdown",
   "id": "a417abd5",
   "metadata": {},
   "source": [
    "### Calculating β1_cap:"
   ]
  },
  {
   "cell_type": "code",
   "execution_count": 14,
   "id": "6150d6a7",
   "metadata": {},
   "outputs": [
    {
     "name": "stdout",
     "output_type": "stream",
     "text": [
      "Estimated value of β1 = 32359.294412157607\n"
     ]
    }
   ],
   "source": [
    "B1_cap=mean_Y-(B2_cap*mean_X)\n",
    "print(\"Estimated value of β1 =\",B1_cap)"
   ]
  },
  {
   "cell_type": "markdown",
   "id": "e81253e3",
   "metadata": {},
   "source": [
    "### Calculating estimated Y i.e. Y_cap:"
   ]
  },
  {
   "cell_type": "code",
   "execution_count": 15,
   "id": "28e4466a",
   "metadata": {},
   "outputs": [
    {
     "name": "stdout",
     "output_type": "stream",
     "text": [
      "Estimated value of Y = [40673.8049792768, 42185.53417329847, 43697.263367320134, 47476.58635237432, 48988.315546395985, 54279.367725471835, 55035.23232248267, 56546.961516504336, 56546.961516504336, 60326.28450155852, 61838.013695580186, 62593.87829259102, 62593.87829259102, 63349.742889601854, 66373.20127764519, 69396.65966568854, 70908.3888597102, 72420.11805373189, 76955.30563579689, 77711.17023280772, 83758.0870088944, 86025.68079992692, 92072.59757601359, 94340.19136704609, 98119.51435210026, 100387.10814313279, 104166.43112818696, 104922.2957251978, 110213.34790427366, 111725.07709829533]\n"
     ]
    }
   ],
   "source": [
    "Y_cap=[]\n",
    "for i in range(len(X)):\n",
    "    Y_=B1_cap+(B2_cap*X[i])\n",
    "    Y_cap.append(Y_)\n",
    "print(\"Estimated value of Y =\",Y_cap)"
   ]
  },
  {
   "cell_type": "markdown",
   "id": "85715251",
   "metadata": {},
   "source": [
    "### Plotting Regression Line:"
   ]
  },
  {
   "cell_type": "code",
   "execution_count": 16,
   "id": "30fc5595",
   "metadata": {},
   "outputs": [
    {
     "data": {
      "image/png": "[encoded data removed]",
      "text/plain": [
       "<Figure size 640x480 with 1 Axes>"
      ]
     },
     "metadata": {},
     "output_type": "display_data"
    }
   ],
   "source": [
    "plt.scatter(X,Y)\n",
    "plt.plot(X,Y_cap,'r')\n",
    "plt.grid()\n",
    "plt.show()"
   ]
  },
  {
   "cell_type": "markdown",
   "id": "8f47136a",
   "metadata": {},
   "source": [
    "### Calculating Stochastic Residual term i.e. µ_cap:"
   ]
  },
  {
   "cell_type": "code",
   "execution_count": 17,
   "id": "c4b5f850",
   "metadata": {},
   "outputs": [
    {
     "name": "stdout",
     "output_type": "stream",
     "text": [
      "Estimated value of error(µ) = [-1330.8049792767997, 4019.465826701533, -5966.263367320134, -3951.5863523743174, -9097.315546395985, 2362.632274528165, 5114.767677517331, -2101.961516504336, 7898.038483495664, -3137.284501558519, 1379.9863044198137, -6799.87829259102, -5636.87829259102, -5458.742889601854, -5262.201277645188, -1458.6596656885376, -4879.388859710205, 10667.881946268113, 4407.694364203111, 16228.829767192277, 7979.912991105593, 12247.319200073078, 9229.402423986408, 19471.808632953907, 11311.485647899739, 5194.891856867209, -92470.43112818696, 7712.704274802207, 12177.652095726342, 10146.922901704675]\n"
     ]
    }
   ],
   "source": [
    "u_cap=[]\n",
    "for n in range(len(Y)):\n",
    "    e=Y[n]-Y_cap[n]\n",
    "    u_cap.append(e)\n",
    "print(\"Estimated value of error(µ) =\",u_cap)"
   ]
  },
  {
   "cell_type": "markdown",
   "id": "ef7252c1",
   "metadata": {},
   "source": [
    "### Calculating Square of Stochastic Residual term i.e. µ^2 _cap and it's Sum i.e. Σµ^2_cap :"
   ]
  },
  {
   "cell_type": "code",
   "execution_count": 18,
   "id": "fd3c9e9b",
   "metadata": {},
   "outputs": [
    {
     "name": "stdout",
     "output_type": "stream",
     "text": [
      "Σµ^2_cap = 10514697916.501587\n"
     ]
    }
   ],
   "source": [
    "u_cap2=[]\n",
    "sum_u2=0\n",
    "for c in range(len(u_cap)):\n",
    "    e_2=u_cap[c]**2\n",
    "    u_cap2.append(e_2)\n",
    "    sum_u2=sum_u2+e_2\n",
    "print(\"Σµ^2_cap =\",sum_u2)"
   ]
  },
  {
   "cell_type": "markdown",
   "id": "b4e3cc98",
   "metadata": {},
   "source": [
    "### Calculating Sigma cap Square i.e. σ^2_cap:"
   ]
  },
  {
   "cell_type": "code",
   "execution_count": 19,
   "id": "bc706787",
   "metadata": {},
   "outputs": [
    {
     "name": "stdout",
     "output_type": "stream",
     "text": [
      "σ^2_cap = 375524925.5893424\n"
     ]
    }
   ],
   "source": [
    "sigma_2=sum_u2/(len(X)-2)\n",
    "print(\"σ^2_cap =\",sigma_2)"
   ]
  },
  {
   "cell_type": "markdown",
   "id": "fdefd57d",
   "metadata": {},
   "source": [
    "### Calculating Variance of β2_cap:"
   ]
  },
  {
   "cell_type": "code",
   "execution_count": 20,
   "id": "dba1c82b",
   "metadata": {},
   "outputs": [
    {
     "name": "stdout",
     "output_type": "stream",
     "text": [
      "Variance of β2_cap = 1607867.361200272\n"
     ]
    }
   ],
   "source": [
    "var_B2_cap=sigma_2/sum_x2\n",
    "print(\"Variance of β2_cap =\",var_B2_cap)"
   ]
  },
  {
   "cell_type": "markdown",
   "id": "bb32772f",
   "metadata": {},
   "source": [
    "### Calculating Standard Error of β2_cap:"
   ]
  },
  {
   "cell_type": "code",
   "execution_count": 21,
   "id": "4cd95ab8",
   "metadata": {},
   "outputs": [
    {
     "name": "stdout",
     "output_type": "stream",
     "text": [
      "Standard Error of β2_cap = 1268.017098149813\n"
     ]
    }
   ],
   "source": [
    "SD_B2_cap=math.sqrt(var_B2_cap)\n",
    "print(\"Standard Error of β2_cap =\",SD_B2_cap)"
   ]
  },
  {
   "cell_type": "markdown",
   "id": "11efc70f",
   "metadata": {},
   "source": [
    "### T-Statistic for β2:"
   ]
  },
  {
   "cell_type": "code",
   "execution_count": 22,
   "id": "154105db",
   "metadata": {},
   "outputs": [
    {
     "name": "stdout",
     "output_type": "stream",
     "text": [
      "T-test of β2_cap = 5.960996883352214\n"
     ]
    }
   ],
   "source": [
    "T_B2=B2_cap/SD_B2_cap\n",
    "print(\"T-test of β2_cap =\",T_B2)"
   ]
  },
  {
   "cell_type": "markdown",
   "id": "447640e4",
   "metadata": {},
   "source": [
    "### Calculating Variance of β1_cap:"
   ]
  },
  {
   "cell_type": "code",
   "execution_count": 23,
   "id": "c13c5d8f",
   "metadata": {},
   "outputs": [
    {
     "name": "stdout",
     "output_type": "stream",
     "text": [
      "Variance of β1_cap = 57910022.792563125\n"
     ]
    }
   ],
   "source": [
    "var_B1_cap=sigma_2*(sum_X2/(len(X)*sum_x2))\n",
    "print(\"Variance of β1_cap =\",var_B1_cap)"
   ]
  },
  {
   "cell_type": "markdown",
   "id": "6387c548",
   "metadata": {},
   "source": [
    "### Calculating Standard Error of β1_cap: "
   ]
  },
  {
   "cell_type": "code",
   "execution_count": 24,
   "id": "51a43ee0",
   "metadata": {},
   "outputs": [
    {
     "name": "stdout",
     "output_type": "stream",
     "text": [
      "Standard Error of β1_cap = 7609.863519969535\n"
     ]
    }
   ],
   "source": [
    "SD_B1_cap=math.sqrt(var_B1_cap)\n",
    "print(\"Standard Error of β1_cap =\",SD_B1_cap)"
   ]
  },
  {
   "cell_type": "markdown",
   "id": "29194075",
   "metadata": {},
   "source": [
    "### T-Statistic for β1:"
   ]
  },
  {
   "cell_type": "code",
   "execution_count": 25,
   "id": "88a2038a",
   "metadata": {},
   "outputs": [
    {
     "name": "stdout",
     "output_type": "stream",
     "text": [
      "T-test of β1_cap = 4.252283149000174\n"
     ]
    }
   ],
   "source": [
    "T_B1=B1_cap/SD_B1_cap\n",
    "print(\"T-test of β1_cap =\",T_B1)"
   ]
  },
  {
   "cell_type": "markdown",
   "id": "ff73f92b",
   "metadata": {},
   "source": [
    "###  Calculating Explained Sum of Squares i.e. ESS:"
   ]
  },
  {
   "cell_type": "code",
   "execution_count": 26,
   "id": "cc5995a7",
   "metadata": {},
   "outputs": [
    {
     "name": "stdout",
     "output_type": "stream",
     "text": [
      "Explained Sum of Squares = 13343708876.198406\n"
     ]
    }
   ],
   "source": [
    "ESS=B2_cap*B2_cap*sum_x2\n",
    "print(\"Explained Sum of Squares =\",ESS)"
   ]
  },
  {
   "cell_type": "markdown",
   "id": "96509aec",
   "metadata": {},
   "source": [
    "### Calculating Residual Sum of Squares i.e. RSS:"
   ]
  },
  {
   "cell_type": "code",
   "execution_count": 27,
   "id": "a2698789",
   "metadata": {},
   "outputs": [
    {
     "name": "stdout",
     "output_type": "stream",
     "text": [
      "Residual sum of Squares = 10514697916.501587\n"
     ]
    }
   ],
   "source": [
    "RSS=sum_u2\n",
    "print(\"Residual sum of Squares =\",RSS)"
   ]
  },
  {
   "cell_type": "markdown",
   "id": "f2a2e0f8",
   "metadata": {},
   "source": [
    "### Calculating Total Sum of Squares i.e. TSS:"
   ]
  },
  {
   "cell_type": "code",
   "execution_count": 28,
   "id": "360d9679",
   "metadata": {},
   "outputs": [
    {
     "name": "stdout",
     "output_type": "stream",
     "text": [
      "Total Sum of Squares = 23858406792.699993\n"
     ]
    }
   ],
   "source": [
    "TSS=ESS+RSS\n",
    "print(\"Total Sum of Squares =\",TSS)"
   ]
  },
  {
   "cell_type": "markdown",
   "id": "79523bcc",
   "metadata": {},
   "source": [
    "### Calculating Coefficient of Determination i.e. r^2:"
   ]
  },
  {
   "cell_type": "code",
   "execution_count": 29,
   "id": "18b5d3c9",
   "metadata": {},
   "outputs": [
    {
     "name": "stdout",
     "output_type": "stream",
     "text": [
      "Regression Coefficient(r^2) = 0.559287507843198\n"
     ]
    }
   ],
   "source": [
    "r_2=ESS/TSS\n",
    "print(\"Regression Coefficient(r^2) =\",r_2)"
   ]
  },
  {
   "cell_type": "markdown",
   "id": "a8ac3e46",
   "metadata": {},
   "source": [
    "### ANOVA Table:"
   ]
  },
  {
   "cell_type": "code",
   "execution_count": 30,
   "id": "43b9262f",
   "metadata": {},
   "outputs": [
    {
     "data": {
      "text/html": [
       "<div>\n",
       "<style scoped>\n",
       "    .dataframe tbody tr th:only-of-type {\n",
       "        vertical-align: middle;\n",
       "    }\n",
       "\n",
       "    .dataframe tbody tr th {\n",
       "        vertical-align: top;\n",
       "    }\n",
       "\n",
       "    .dataframe thead th {\n",
       "        text-align: right;\n",
       "    }\n",
       "</style>\n",
       "<table border=\"1\" class=\"dataframe\">\n",
       "  <thead>\n",
       "    <tr style=\"text-align: right;\">\n",
       "      <th></th>\n",
       "      <th>Source of Variation</th>\n",
       "      <th>Sum of Squares</th>\n",
       "      <th>Degree of Freedom</th>\n",
       "      <th>Mean Sum of Squares</th>\n",
       "    </tr>\n",
       "  </thead>\n",
       "  <tbody>\n",
       "    <tr>\n",
       "      <th>0</th>\n",
       "      <td>Due to Regression(ESS)</td>\n",
       "      <td>1.334371e+10</td>\n",
       "      <td>1</td>\n",
       "      <td>1.334371e+10</td>\n",
       "    </tr>\n",
       "    <tr>\n",
       "      <th>1</th>\n",
       "      <td>Due to Residuals(RSS)</td>\n",
       "      <td>1.051470e+10</td>\n",
       "      <td>28</td>\n",
       "      <td>3.755249e+08</td>\n",
       "    </tr>\n",
       "    <tr>\n",
       "      <th>2</th>\n",
       "      <td>Total sum of Squares(TSS)</td>\n",
       "      <td>2.385841e+10</td>\n",
       "      <td>29</td>\n",
       "      <td>8.227037e+08</td>\n",
       "    </tr>\n",
       "  </tbody>\n",
       "</table>\n",
       "</div>"
      ],
      "text/plain": [
       "         Source of Variation  Sum of Squares  Degree of Freedom  \\\n",
       "0     Due to Regression(ESS)    1.334371e+10                  1   \n",
       "1      Due to Residuals(RSS)    1.051470e+10                 28   \n",
       "2  Total sum of Squares(TSS)    2.385841e+10                 29   \n",
       "\n",
       "   Mean Sum of Squares  \n",
       "0         1.334371e+10  \n",
       "1         3.755249e+08  \n",
       "2         8.227037e+08  "
      ]
     },
     "execution_count": 30,
     "metadata": {},
     "output_type": "execute_result"
    }
   ],
   "source": [
    "data={\"Source of Variation\":[\"Due to Regression(ESS)\",\"Due to Residuals(RSS)\",\"Total sum of Squares(TSS)\"],\n",
    "      \"Sum of Squares\":[ESS,RSS,TSS],\n",
    "      \"Degree of Freedom\":[1,len(X)-2,len(X)-1], \n",
    "      \"Mean Sum of Squares\":[ESS/1,RSS/(len(X)-2),TSS/(len(X)-1)]}\n",
    "df=pd.DataFrame(data)\n",
    "df.head()"
   ]
  },
  {
   "cell_type": "markdown",
   "id": "0f7bf46a",
   "metadata": {},
   "source": [
    "### F-Statistic:"
   ]
  },
  {
   "cell_type": "code",
   "execution_count": 31,
   "id": "abb92255",
   "metadata": {},
   "outputs": [
    {
     "name": "stdout",
     "output_type": "stream",
     "text": [
      "F-test = 35.533483843334814\n"
     ]
    }
   ],
   "source": [
    "F=(ESS/1)/(RSS/(len(X)-2))\n",
    "print(\"F-test =\",F)"
   ]
  },
  {
   "cell_type": "markdown",
   "id": "34906bdc",
   "metadata": {},
   "source": [
    "## Level of significance:\n",
    "\n",
    "\n",
    "Take level of significance as 0.05 or 5%."
   ]
  },
  {
   "cell_type": "markdown",
   "id": "7d78914d",
   "metadata": {},
   "source": [
    "## Critical Values of T-statistic and F-statistic:"
   ]
  },
  {
   "cell_type": "markdown",
   "id": "49afed49",
   "metadata": {},
   "source": [
    "### Tabulated Values of T-statistic:"
   ]
  },
  {
   "cell_type": "code",
   "execution_count": 32,
   "id": "49059a06",
   "metadata": {},
   "outputs": [],
   "source": [
    "t_tabulated=[12.71,4.303,3.182,2.776,2.571,2.447,2.365,2.306,2.262,2.228,2.201,2.179,2.160,2.145,2.131,2.120,2.110,2.101,2.093,2.086,2.080,2.074,2.069,2.064,2.060,2.056,2.052,2.048,2.045,2.042]"
   ]
  },
  {
   "cell_type": "markdown",
   "id": "7da23e5e",
   "metadata": {},
   "source": [
    "### Tabulated Values of F-statistic:"
   ]
  },
  {
   "cell_type": "code",
   "execution_count": 33,
   "id": "a9b7bae1",
   "metadata": {},
   "outputs": [],
   "source": [
    "f_tabulated=[161.4476,18.5128,10.1280,7.7086,6.6079,5.9874,5.5914,5.3177,5.1174,5.9646,4.8443,4.7472,4.6672,4.6001,4.5431,4.4940,4.4513,4.4139,4.3807,4.3512,4.3248,4.3009,4.2793,4.2597,4.2417,4.2252,4.2100,4.1960,4.1830,4.1709]"
   ]
  },
  {
   "cell_type": "markdown",
   "id": "2ccbb018",
   "metadata": {},
   "source": [
    "## Confidence Interval:"
   ]
  },
  {
   "cell_type": "code",
   "execution_count": 34,
   "id": "fafd1b10",
   "metadata": {},
   "outputs": [
    {
     "name": "stdout",
     "output_type": "stream",
     "text": [
      "Range of confidence interval of B1_cap will be from  4969.355055686436  to  10147.93688453027\n"
     ]
    }
   ],
   "source": [
    "CI_1=B2_cap+(t_tabulated[(len(X)-2)+1]*SD_B2_cap)\n",
    "CI_2=B2_cap-(t_tabulated[(len(X)-2)+1]*SD_B2_cap)\n",
    "if (CI_1>CI_2):\n",
    "    print(\"Range of confidence interval of B1_cap will be from \",CI_2,\" to \",CI_1)\n",
    "else:\n",
    "    print(\"Range of confidence interval of B1_cap will be from \",CI_1,\" to \",CI_2)"
   ]
  },
  {
   "cell_type": "markdown",
   "id": "76bb2fe1",
   "metadata": {},
   "source": [
    "## Result:"
   ]
  },
  {
   "cell_type": "code",
   "execution_count": 35,
   "id": "37e52547",
   "metadata": {},
   "outputs": [
    {
     "name": "stdout",
     "output_type": "stream",
     "text": [
      "Y_cap  = (32359.294412157607) + (7558.645970108353) X_cap \t r_2 = 0.559287507843198\n",
      "S.E.   = (7609.863519969535)   (1268.017098149813) \t\t d.f. =28 \n",
      "T-test = (4.252283149000174)   (5.960996883352214) \t\t t_tab = 2.042\n"
     ]
    }
   ],
   "source": [
    "print(f\"Y_cap  = ({B1_cap}) + ({B2_cap}) X_cap \\t r_2 = {r_2}\")\n",
    "print(f\"S.E.   = ({SD_B1_cap})   ({SD_B2_cap}) \\t\\t d.f. ={len(X)-2} \")\n",
    "print(f\"T-test = ({T_B1})   ({T_B2}) \\t\\t t_tab = {t_tabulated[(len(X)-2)+1]}\")\n"
   ]
  },
  {
   "cell_type": "markdown",
   "id": "9ad104ee",
   "metadata": {},
   "source": [
    "## Interpretation:"
   ]
  },
  {
   "cell_type": "code",
   "execution_count": 36,
   "id": "40148a65",
   "metadata": {},
   "outputs": [
    {
     "name": "stdout",
     "output_type": "stream",
     "text": [
      "1)\n",
      "For β1_cap:\n",
      "Calculated t-value =  4.252283149000174  and Tabulate t-value =  2.042\n",
      "Null Hypothesis is Rejected for β1_cap i.e. There is significant difference between two variables\n",
      "\n",
      "\n",
      "2)\n",
      "For β2_cap:\n",
      "Calculated t-value =  5.960996883352214  and Tabulate t-value =  2.042\n",
      "Null Hypothesis is Rejected for β2_cap i.e. There is significant difference between two variables\n",
      "\n",
      "\n",
      "3)\n",
      "All over\n",
      "Calculated f-value =  35.533483843334814  and Tabulate f-value =  4.1709\n",
      "Null Hypothesis is Rejected for i.e. There is significant difference between two variables\n",
      "\n",
      "\n",
      "4)\n",
      "Point Estimation\n",
      "If there is a change of one unit in the value of X variable then the change in Y variable will be =  7558.645970108353\n",
      "\n",
      "\n",
      "5)\n",
      "Interval Estimation\n",
      "If there is a change of one unit in the value of X variable then the change in Y variable will be in range from: \n",
      " 4969.355055686436  to  10147.93688453027\n",
      "\n",
      "\n",
      "6)\n",
      "Coefficient of Determination is  0.559287507843198  i.e. our model is  55.9287507843198  explained.\n",
      "\n",
      "\n",
      "7)\n",
      "We assumed 5% Level of Significance i.e. there are 95% chances that our estimated model is correct.\n"
     ]
    }
   ],
   "source": [
    "print(\"1)\")\n",
    "print(\"For β1_cap:\")\n",
    "print(\"Calculated t-value = \",T_B1,\" and Tabulate t-value = \",t_tabulated[(len(X)-2)+1])\n",
    "if (B1_cap>t_tabulated[(len(X)-2)+1]):\n",
    "                       print(\"Null Hypothesis is Rejected for β1_cap i.e. There is significant difference between two variables\")\n",
    "else:\n",
    "                       print(\"Null Hypothesis is Accepted for β1_cap i.e. there is no significant difference between two variables\")\n",
    "print()\n",
    "print()\n",
    "print(\"2)\")\n",
    "print(\"For β2_cap:\")\n",
    "print(\"Calculated t-value = \",T_B2,\" and Tabulate t-value = \",t_tabulated[(len(X)-2)+1])\n",
    "if (B2_cap>t_tabulated[(len(X)-2)+1]):\n",
    "                       print(\"Null Hypothesis is Rejected for β2_cap i.e. There is significant difference between two variables\")\n",
    "else:\n",
    "                       print(\"Null Hypothesis is Accepted for β2_cap i.e. there is no significant difference between two variables\")  \n",
    "\n",
    "print()\n",
    "print()\n",
    "print(\"3)\")\n",
    "print(\"All over\")\n",
    "print(\"Calculated f-value = \",F,\" and Tabulate f-value = \",f_tabulated[(len(X)-2)+1])\n",
    "if (F>f_tabulated[(len(X)-2)+1]):\n",
    "                       print(\"Null Hypothesis is Rejected for i.e. There is significant difference between two variables\")\n",
    "else:\n",
    "                       print(\"Null Hypothesis is Accepted for i.e. there is no significant difference between two variables\")  \n",
    "\n",
    "print()\n",
    "print()\n",
    "print(\"4)\")\n",
    "print(\"Point Estimation\")\n",
    "print(\"If there is a change of one unit in the value of X variable then the change in Y variable will be = \",B2_cap)\n",
    "\n",
    "print()\n",
    "print()\n",
    "print(\"5)\")\n",
    "print(\"Interval Estimation\")\n",
    "if (CI_1>CI_2):\n",
    "    print(\"If there is a change of one unit in the value of X variable then the change in Y variable will be in range from: \\n\",CI_2,\" to \",CI_1)\n",
    "else:\n",
    "    print(\"If there is a change of one unit in the value of X variable then the change in Y variable will be in range from; \\n \",CI_1,\" to \",CI_2)\n",
    "\n",
    "\n",
    "print()\n",
    "print()\n",
    "print(\"6)\")\n",
    "print(\"Coefficient of Determination is \",r_2,\" i.e. our model is \",100*r_2,\" explained.\")\n",
    "\n",
    "print()\n",
    "print()\n",
    "print(\"7)\")\n",
    "print(\"We assumed 5% Level of Significance i.e. there are 95% chances that our estimated model is correct.\")"
   ]
  }
 ],
 "metadata": {
  "kernelspec": {
   "display_name": "Python 3 (ipykernel)",
   "language": "python",
   "name": "python3"
  },
  "language_info": {
   "codemirror_mode": {
    "name": "ipython",
    "version": 3
   },
   "file_extension": ".py",
   "mimetype": "text/x-python",
   "name": "python",
   "nbconvert_exporter": "python",
   "pygments_lexer": "ipython3",
   "version": "3.9.13"
  }
 },
 "nbformat": 4,
 "nbformat_minor": 5
}
